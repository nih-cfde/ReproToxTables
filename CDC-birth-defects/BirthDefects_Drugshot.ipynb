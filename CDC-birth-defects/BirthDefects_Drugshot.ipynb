{
 "cells": [
  {
   "cell_type": "code",
   "execution_count": 1,
   "metadata": {},
   "outputs": [],
   "source": [
    "import pandas as pd\n",
    "from rdflib import Graph, RDF, Namespace"
   ]
  },
  {
   "cell_type": "code",
   "execution_count": 2,
   "metadata": {},
   "outputs": [],
   "source": [
    "g = Graph()\n",
    "\n",
    "disease = Namespace(\"https://www.orpha.net/ORDO/\")\n",
    "phenotype = Namespace(\"https://purl.obolibrary.org/obo/\")\n",
    "relationship = Namespace(\"https://semanticscience.org/resource/\")\n",
    "compound = Namespace(\"https://identifiers.org/lincs.smallmolecule:\")\n",
    "compound_type = Namespace(\"http://purl.obolibrary.org/obo/\")"
   ]
  },
  {
   "cell_type": "code",
   "execution_count": 3,
   "metadata": {},
   "outputs": [],
   "source": [
    "g.bind('compound', compound)\n",
    "g.bind('disease', disease)\n",
    "g.bind('relationship', relationship)\n",
    "g.bind('phenotype', phenotype)\n",
    "g.bind('type',compound_type)"
   ]
  },
  {
   "cell_type": "code",
   "execution_count": 4,
   "metadata": {},
   "outputs": [],
   "source": [
    "defects_map = pd.read_csv('defects_hpo_mappings.tsv', sep='\\t', index_col=0)"
   ]
  },
  {
   "cell_type": "code",
   "execution_count": 19,
   "metadata": {},
   "outputs": [],
   "source": [
    "l1000fwd_meta = pd.read_csv('Drugs_metadata.csv')"
   ]
  },
  {
   "cell_type": "code",
   "execution_count": 20,
   "metadata": {},
   "outputs": [],
   "source": [
    "lincs_dict = dict(zip(l1000fwd_meta.pert_iname, l1000fwd_meta.LSM_id))\n",
    "lincs_dict_brd_lsm = dict(zip(l1000fwd_meta.pert_id, l1000fwd_meta.LSM_id))"
   ]
  },
  {
   "cell_type": "code",
   "execution_count": 21,
   "metadata": {},
   "outputs": [],
   "source": [
    "drug_alias_table = pd.read_csv('https://s3.amazonaws.com/lincs-dcic/sigcom-lincs-metadata/LINCS_small_molecules.tsv',\n",
    "                              sep = '\\t',\n",
    "                              index_col=0)\n",
    "alias_lookup =  {y:x for x, y in drug_alias_table[~(drug_alias_table['compound_aliases'] == '-')]\\\n",
    "                .to_dict()['compound_aliases'].items()}"
   ]
  },
  {
   "cell_type": "code",
   "execution_count": 42,
   "metadata": {},
   "outputs": [],
   "source": [
    "with open('drugshot_birth_defects.gmt', 'r') as f: \n",
    "    for l in f.readlines(): \n",
    "        p = l.split('\\t')[0].strip()\n",
    "        hp_id = defects_map.hp.get(p)\n",
    "        if hp_id:\n",
    "            if hp_id.startswith('ORPHA'):\n",
    "                hp_id = hp_id.replace(':', '_').replace('ORPHA', 'Orphanet')\n",
    "                g.add((disease[hp_id], RDF.type, relationship['SIO_010299']))\n",
    "                for drug in l.split('\\t')[2:]:\n",
    "                    if drug in lincs_dict:\n",
    "                        lsm = lincs_dict[drug.strip()]\n",
    "                        g.add((disease[hp_id], relationship['SIO_000983'], compound[lsm]))\n",
    "                    elif drug in alias_lookup:\n",
    "                        brd = alias_lookup[drug]\n",
    "                        if brd in lincs_dict_brd_lsm:\n",
    "                            lsm = lincs_dict_brd_lsm[brd]\n",
    "                            g.add((disease[hp_id], relationship['SIO_000983'], compound[lsm]))\n",
    "            else:\n",
    "                hp_id = hp_id.replace(':', '_')\n",
    "                g.add((phenotype[hp_id], RDF.type, relationship['SIO_010056']))\n",
    "                for drug in l.split('\\t')[2:]:\n",
    "                    if drug in lincs_dict:\n",
    "                        lsm = lincs_dict[drug.strip()]\n",
    "                        g.add((phenotype[hp_id], relationship['SIO_000983'], compound[lsm]))\n",
    "                    elif drug in alias_lookup:\n",
    "                        brd = alias_lookup[drug]\n",
    "                        if brd in lincs_dict_brd_lsm:\n",
    "                            lsm = lincs_dict_brd_lsm[brd]\n",
    "                            g.add((phenotype[hp_id], relationship['SIO_000983'], compound[lsm]))                "
   ]
  },
  {
   "cell_type": "code",
   "execution_count": 43,
   "metadata": {},
   "outputs": [
    {
     "data": {
      "text/plain": [
       "<Graph identifier=N083cf396fb9d4bf49087c5d4918eb11e (<class 'rdflib.graph.Graph'>)>"
      ]
     },
     "execution_count": 43,
     "metadata": {},
     "output_type": "execute_result"
    }
   ],
   "source": [
    "g.serialize(format=\"turtle\", destination=\"Drugshot_BirthDefects_Drug_Associations.ttl\")"
   ]
  },
  {
   "cell_type": "code",
   "execution_count": null,
   "metadata": {},
   "outputs": [],
   "source": []
  }
 ],
 "metadata": {
  "interpreter": {
   "hash": "1c82f5b6c528626954ea994dc81ee747853d56d7563ac30240837c45bbb6f5e6"
  },
  "kernelspec": {
   "display_name": "Python 3",
   "language": "python",
   "name": "python3"
  },
  "language_info": {
   "codemirror_mode": {
    "name": "ipython",
    "version": 3
   },
   "file_extension": ".py",
   "mimetype": "text/x-python",
   "name": "python",
   "nbconvert_exporter": "python",
   "pygments_lexer": "ipython3",
   "version": "3.9.2"
  }
 },
 "nbformat": 4,
 "nbformat_minor": 4
}
