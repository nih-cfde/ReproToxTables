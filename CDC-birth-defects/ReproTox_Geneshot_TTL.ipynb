{
 "cells": [
  {
   "cell_type": "code",
   "execution_count": 1,
   "source": [
    "import pandas as pd\n",
    "from rdflib import Graph, RDF, Namespace"
   ],
   "outputs": [],
   "metadata": {}
  },
  {
   "cell_type": "code",
   "execution_count": 2,
   "source": [
    "defects_map = pd.read_csv('defects_hpo_mappings.tsv', sep='\\t', index_col=0)"
   ],
   "outputs": [],
   "metadata": {}
  },
  {
   "cell_type": "code",
   "execution_count": 3,
   "source": [
    "g = Graph()\n",
    "\n",
    "disease = Namespace(\"https://www.orpha.net/ORDO/\")\n",
    "phenotype = Namespace(\"https://purl.obolibrary.org/obo/\")\n",
    "relationship = Namespace(\"https://semanticscience.org/resource/\")\n",
    "gene_symbol = Namespace(\"https://identifiers.org/hgnc.symbol/\")"
   ],
   "outputs": [],
   "metadata": {}
  },
  {
   "cell_type": "code",
   "execution_count": 4,
   "source": [
    "g.bind('gene_symbol', gene_symbol)\n",
    "g.bind('disease', disease)\n",
    "g.bind('relationship', relationship)\n",
    "g.bind('phenotype', phenotype)"
   ],
   "outputs": [],
   "metadata": {}
  },
  {
   "cell_type": "code",
   "execution_count": 5,
   "source": [
    "with open('CDC-birth-defect-genes-Geneshot.gmt', 'r') as f: \n",
    "    for l in f.readlines(): \n",
    "        p = l.split('\\t')[0].strip()\n",
    "        hp_id = defects_map.loc[p, 'hp']\n",
    "        if hp_id.startswith('ORPHA'):\n",
    "            hp_id = hp_id.replace(':', '_').replace('ORPHA', 'Orphanet')\n",
    "            g.add((disease[hp_id], RDF.type, relationship['SIO_010299']))\n",
    "            for gene in l.split('\\t')[2:]:\n",
    "                g.add((disease[hp_id], relationship['SIO_000983'], gene_symbol[gene]))\n",
    "        else:\n",
    "            hp_id = hp_id.replace(':', '_')\n",
    "            g.add((phenotype[hp_id], RDF.type, relationship['SIO_010056']))\n",
    "            for gene in l.split('\\t')[2:]:\n",
    "                g.add((phenotype[hp_id], relationship['SIO_000983'], gene_symbol[gene.strip()]))"
   ],
   "outputs": [],
   "metadata": {}
  },
  {
   "cell_type": "code",
   "execution_count": 6,
   "source": [
    "g.serialize(format=\"turtle\", destination=\"Geneshot_BirthDefects_Gene_Associations.ttl\")"
   ],
   "outputs": [
    {
     "output_type": "execute_result",
     "data": {
      "text/plain": [
       "<Graph identifier=Ndb86689e93744735a9e5fa86518689d9 (<class 'rdflib.graph.Graph'>)>"
      ]
     },
     "metadata": {},
     "execution_count": 6
    }
   ],
   "metadata": {}
  },
  {
   "cell_type": "code",
   "execution_count": null,
   "source": [],
   "outputs": [],
   "metadata": {}
  }
 ],
 "metadata": {
  "orig_nbformat": 4,
  "language_info": {
   "name": "python",
   "version": "3.8.12",
   "mimetype": "text/x-python",
   "codemirror_mode": {
    "name": "ipython",
    "version": 3
   },
   "pygments_lexer": "ipython3",
   "nbconvert_exporter": "python",
   "file_extension": ".py"
  },
  "kernelspec": {
   "name": "python3",
   "display_name": "Python 3.8.12 64-bit ('cfde_venv': conda)"
  },
  "interpreter": {
   "hash": "1c82f5b6c528626954ea994dc81ee747853d56d7563ac30240837c45bbb6f5e6"
  }
 },
 "nbformat": 4,
 "nbformat_minor": 2
}