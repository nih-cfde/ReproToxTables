{
 "cells": [
  {
   "cell_type": "code",
   "execution_count": 1,
   "source": [
    "import pandas as pd\n",
    "from rdflib import Graph, RDF, Namespace"
   ],
   "outputs": [],
   "metadata": {}
  },
  {
   "cell_type": "code",
   "execution_count": 2,
   "source": [
    "defects_map = pd.read_csv('defects_hpo_mappings.tsv', sep='\\t', index_col=0)"
   ],
   "outputs": [],
   "metadata": {}
  },
  {
   "cell_type": "code",
   "execution_count": 7,
   "source": [
    "g = Graph()\n",
    "\n",
    "disease = Namespace(\"https://www.orpha.net/ORDO/\") # Orphanet Rare Disease Ontology namespace\n",
    "phenotype = Namespace(\"https://hpo.jax.org/app/browse/term/\") # Human Phenotype Ontology namespace\n",
    "relationship = Namespace(\"https://semanticscience.org/resource/\") # Semanticscience Integrated Ontology namespace\n",
    "gene_symbol = Namespace(\"https://identifiers.org/hgnc.symbol/\") # HGNC Gene Symbol namespace"
   ],
   "outputs": [],
   "metadata": {}
  },
  {
   "cell_type": "code",
   "execution_count": 8,
   "source": [
    "g.bind('gene_symbol', gene_symbol)\n",
    "g.bind('disease', disease)\n",
    "g.bind('relationship', relationship)\n",
    "g.bind('phenotype', phenotype)"
   ],
   "outputs": [],
   "metadata": {}
  },
  {
   "cell_type": "code",
   "execution_count": 9,
   "source": [
    "with open('CDC-birth-defect-genes-Geneshot.gmt', 'r') as f: \n",
    "    for l in f.readlines(): \n",
    "        p = l.split('\\t')[0].strip()\n",
    "        hp_id = defects_map.loc[p, 'hp']\n",
    "        if hp_id.startswith('ORPHA'): # ORPHA diseases technically belong to a separate namespace than HPO phenotypes\n",
    "            hp_id = hp_id.replace(':', '_').replace('ORPHA', 'Orphanet')\n",
    "            g.add((disease[hp_id], RDF.type, relationship['SIO_010299'])) # disease type\n",
    "            for gene in l.split('\\t')[2:]:\n",
    "                g.add((disease[hp_id], relationship['SIO_000983'], gene_symbol[gene.strip()])) # gene-disease association\n",
    "        else:\n",
    "            g.add((phenotype[hp_id], RDF.type, relationship['SIO_010056'])) # phenotype type\n",
    "            for gene in l.split('\\t')[2:]:\n",
    "                g.add((phenotype[hp_id], relationship['SIO_000983'], gene_symbol[gene.strip()])) # gene-disease association"
   ],
   "outputs": [],
   "metadata": {}
  },
  {
   "cell_type": "code",
   "execution_count": 11,
   "source": [
    "g.serialize(format=\"turtle\", destination=\"Geneshot_BirthDefects_Gene_Associations.ttl\")"
   ],
   "outputs": [
    {
     "output_type": "execute_result",
     "data": {
      "text/plain": [
       "<Graph identifier=Ne12a419597f044bf8ff0120972d36d73 (<class 'rdflib.graph.Graph'>)>"
      ]
     },
     "metadata": {},
     "execution_count": 11
    }
   ],
   "metadata": {}
  },
  {
   "cell_type": "code",
   "execution_count": null,
   "source": [],
   "outputs": [],
   "metadata": {}
  }
 ],
 "metadata": {
  "orig_nbformat": 4,
  "language_info": {
   "name": "python",
   "version": "3.8.12",
   "mimetype": "text/x-python",
   "codemirror_mode": {
    "name": "ipython",
    "version": 3
   },
   "pygments_lexer": "ipython3",
   "nbconvert_exporter": "python",
   "file_extension": ".py"
  },
  "kernelspec": {
   "name": "python3",
   "display_name": "Python 3.8.12 64-bit ('cfde_venv': conda)"
  },
  "interpreter": {
   "hash": "1c82f5b6c528626954ea994dc81ee747853d56d7563ac30240837c45bbb6f5e6"
  }
 },
 "nbformat": 4,
 "nbformat_minor": 2
}